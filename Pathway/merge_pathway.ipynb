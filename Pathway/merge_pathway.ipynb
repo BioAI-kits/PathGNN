{
 "cells": [
  {
   "cell_type": "code",
   "execution_count": 1,
   "id": "5b7ffa6c",
   "metadata": {},
   "outputs": [],
   "source": [
    "import pandas as pd"
   ]
  },
  {
   "cell_type": "code",
   "execution_count": 3,
   "id": "2a056eaf",
   "metadata": {},
   "outputs": [
    {
     "data": {
      "text/html": [
       "<div>\n",
       "<style scoped>\n",
       "    .dataframe tbody tr th:only-of-type {\n",
       "        vertical-align: middle;\n",
       "    }\n",
       "\n",
       "    .dataframe tbody tr th {\n",
       "        vertical-align: top;\n",
       "    }\n",
       "\n",
       "    .dataframe thead th {\n",
       "        text-align: right;\n",
       "    }\n",
       "</style>\n",
       "<table border=\"1\" class=\"dataframe\">\n",
       "  <thead>\n",
       "    <tr style=\"text-align: right;\">\n",
       "      <th></th>\n",
       "      <th>src_type</th>\n",
       "      <th>src</th>\n",
       "      <th>dest_type</th>\n",
       "      <th>dest</th>\n",
       "      <th>direction</th>\n",
       "      <th>type</th>\n",
       "    </tr>\n",
       "  </thead>\n",
       "  <tbody>\n",
       "    <tr>\n",
       "      <th>0</th>\n",
       "      <td>ENTREZID</td>\n",
       "      <td>9021</td>\n",
       "      <td>ENTREZID</td>\n",
       "      <td>3717</td>\n",
       "      <td>directed</td>\n",
       "      <td>Control(Out: INHIBITION of BiochemicalReaction)</td>\n",
       "    </tr>\n",
       "    <tr>\n",
       "      <th>1</th>\n",
       "      <td>ENTREZID</td>\n",
       "      <td>9021</td>\n",
       "      <td>ENTREZID</td>\n",
       "      <td>3717</td>\n",
       "      <td>undirected</td>\n",
       "      <td>Binding</td>\n",
       "    </tr>\n",
       "    <tr>\n",
       "      <th>2</th>\n",
       "      <td>ENTREZID</td>\n",
       "      <td>9021</td>\n",
       "      <td>ENTREZID</td>\n",
       "      <td>3569</td>\n",
       "      <td>directed</td>\n",
       "      <td>Control(Out: INHIBITION of BiochemicalReaction)</td>\n",
       "    </tr>\n",
       "    <tr>\n",
       "      <th>3</th>\n",
       "      <td>ENTREZID</td>\n",
       "      <td>9021</td>\n",
       "      <td>ENTREZID</td>\n",
       "      <td>3569</td>\n",
       "      <td>undirected</td>\n",
       "      <td>Binding</td>\n",
       "    </tr>\n",
       "    <tr>\n",
       "      <th>4</th>\n",
       "      <td>ENTREZID</td>\n",
       "      <td>9021</td>\n",
       "      <td>ENTREZID</td>\n",
       "      <td>3570</td>\n",
       "      <td>directed</td>\n",
       "      <td>Control(Out: INHIBITION of BiochemicalReaction)</td>\n",
       "    </tr>\n",
       "    <tr>\n",
       "      <th>...</th>\n",
       "      <td>...</td>\n",
       "      <td>...</td>\n",
       "      <td>...</td>\n",
       "      <td>...</td>\n",
       "      <td>...</td>\n",
       "      <td>...</td>\n",
       "    </tr>\n",
       "    <tr>\n",
       "      <th>72</th>\n",
       "      <td>ENTREZID</td>\n",
       "      <td>5781</td>\n",
       "      <td>ENTREZID</td>\n",
       "      <td>3569</td>\n",
       "      <td>undirected</td>\n",
       "      <td>Binding</td>\n",
       "    </tr>\n",
       "    <tr>\n",
       "      <th>73</th>\n",
       "      <td>ENTREZID</td>\n",
       "      <td>5781</td>\n",
       "      <td>ENTREZID</td>\n",
       "      <td>3570</td>\n",
       "      <td>undirected</td>\n",
       "      <td>Binding</td>\n",
       "    </tr>\n",
       "    <tr>\n",
       "      <th>74</th>\n",
       "      <td>ENTREZID</td>\n",
       "      <td>5781</td>\n",
       "      <td>ENTREZID</td>\n",
       "      <td>867</td>\n",
       "      <td>undirected</td>\n",
       "      <td>Binding</td>\n",
       "    </tr>\n",
       "    <tr>\n",
       "      <th>75</th>\n",
       "      <td>ENTREZID</td>\n",
       "      <td>5781</td>\n",
       "      <td>ENTREZID</td>\n",
       "      <td>3716</td>\n",
       "      <td>undirected</td>\n",
       "      <td>Binding</td>\n",
       "    </tr>\n",
       "    <tr>\n",
       "      <th>76</th>\n",
       "      <td>ENTREZID</td>\n",
       "      <td>5781</td>\n",
       "      <td>ENTREZID</td>\n",
       "      <td>7297</td>\n",
       "      <td>undirected</td>\n",
       "      <td>Binding</td>\n",
       "    </tr>\n",
       "  </tbody>\n",
       "</table>\n",
       "<p>77 rows × 6 columns</p>\n",
       "</div>"
      ],
      "text/plain": [
       "    src_type   src dest_type  dest   direction  \\\n",
       "0   ENTREZID  9021  ENTREZID  3717    directed   \n",
       "1   ENTREZID  9021  ENTREZID  3717  undirected   \n",
       "2   ENTREZID  9021  ENTREZID  3569    directed   \n",
       "3   ENTREZID  9021  ENTREZID  3569  undirected   \n",
       "4   ENTREZID  9021  ENTREZID  3570    directed   \n",
       "..       ...   ...       ...   ...         ...   \n",
       "72  ENTREZID  5781  ENTREZID  3569  undirected   \n",
       "73  ENTREZID  5781  ENTREZID  3570  undirected   \n",
       "74  ENTREZID  5781  ENTREZID   867  undirected   \n",
       "75  ENTREZID  5781  ENTREZID  3716  undirected   \n",
       "76  ENTREZID  5781  ENTREZID  7297  undirected   \n",
       "\n",
       "                                               type  \n",
       "0   Control(Out: INHIBITION of BiochemicalReaction)  \n",
       "1                                           Binding  \n",
       "2   Control(Out: INHIBITION of BiochemicalReaction)  \n",
       "3                                           Binding  \n",
       "4   Control(Out: INHIBITION of BiochemicalReaction)  \n",
       "..                                              ...  \n",
       "72                                          Binding  \n",
       "73                                          Binding  \n",
       "74                                          Binding  \n",
       "75                                          Binding  \n",
       "76                                          Binding  \n",
       "\n",
       "[77 rows x 6 columns]"
      ]
     },
     "execution_count": 3,
     "metadata": {},
     "output_type": "execute_result"
    }
   ],
   "source": [
    "df = pd.read_table('pathways/R-HSA-1059683.txt')\n",
    "df "
   ]
  },
  {
   "cell_type": "code",
   "execution_count": 4,
   "id": "78f728b9",
   "metadata": {},
   "outputs": [
    {
     "data": {
      "text/html": [
       "<div>\n",
       "<style scoped>\n",
       "    .dataframe tbody tr th:only-of-type {\n",
       "        vertical-align: middle;\n",
       "    }\n",
       "\n",
       "    .dataframe tbody tr th {\n",
       "        vertical-align: top;\n",
       "    }\n",
       "\n",
       "    .dataframe thead th {\n",
       "        text-align: right;\n",
       "    }\n",
       "</style>\n",
       "<table border=\"1\" class=\"dataframe\">\n",
       "  <thead>\n",
       "    <tr style=\"text-align: right;\">\n",
       "      <th></th>\n",
       "      <th>src</th>\n",
       "      <th>dest</th>\n",
       "      <th>direction</th>\n",
       "      <th>type</th>\n",
       "    </tr>\n",
       "  </thead>\n",
       "  <tbody>\n",
       "    <tr>\n",
       "      <th>0</th>\n",
       "      <td>9021</td>\n",
       "      <td>3717</td>\n",
       "      <td>directed</td>\n",
       "      <td>Control(Out: INHIBITION of BiochemicalReaction)</td>\n",
       "    </tr>\n",
       "    <tr>\n",
       "      <th>1</th>\n",
       "      <td>9021</td>\n",
       "      <td>3717</td>\n",
       "      <td>undirected</td>\n",
       "      <td>Binding</td>\n",
       "    </tr>\n",
       "    <tr>\n",
       "      <th>2</th>\n",
       "      <td>9021</td>\n",
       "      <td>3569</td>\n",
       "      <td>directed</td>\n",
       "      <td>Control(Out: INHIBITION of BiochemicalReaction)</td>\n",
       "    </tr>\n",
       "    <tr>\n",
       "      <th>3</th>\n",
       "      <td>9021</td>\n",
       "      <td>3569</td>\n",
       "      <td>undirected</td>\n",
       "      <td>Binding</td>\n",
       "    </tr>\n",
       "    <tr>\n",
       "      <th>4</th>\n",
       "      <td>9021</td>\n",
       "      <td>3570</td>\n",
       "      <td>directed</td>\n",
       "      <td>Control(Out: INHIBITION of BiochemicalReaction)</td>\n",
       "    </tr>\n",
       "    <tr>\n",
       "      <th>...</th>\n",
       "      <td>...</td>\n",
       "      <td>...</td>\n",
       "      <td>...</td>\n",
       "      <td>...</td>\n",
       "    </tr>\n",
       "    <tr>\n",
       "      <th>72</th>\n",
       "      <td>5781</td>\n",
       "      <td>3569</td>\n",
       "      <td>undirected</td>\n",
       "      <td>Binding</td>\n",
       "    </tr>\n",
       "    <tr>\n",
       "      <th>73</th>\n",
       "      <td>5781</td>\n",
       "      <td>3570</td>\n",
       "      <td>undirected</td>\n",
       "      <td>Binding</td>\n",
       "    </tr>\n",
       "    <tr>\n",
       "      <th>74</th>\n",
       "      <td>5781</td>\n",
       "      <td>867</td>\n",
       "      <td>undirected</td>\n",
       "      <td>Binding</td>\n",
       "    </tr>\n",
       "    <tr>\n",
       "      <th>75</th>\n",
       "      <td>5781</td>\n",
       "      <td>3716</td>\n",
       "      <td>undirected</td>\n",
       "      <td>Binding</td>\n",
       "    </tr>\n",
       "    <tr>\n",
       "      <th>76</th>\n",
       "      <td>5781</td>\n",
       "      <td>7297</td>\n",
       "      <td>undirected</td>\n",
       "      <td>Binding</td>\n",
       "    </tr>\n",
       "  </tbody>\n",
       "</table>\n",
       "<p>77 rows × 4 columns</p>\n",
       "</div>"
      ],
      "text/plain": [
       "     src  dest   direction                                             type\n",
       "0   9021  3717    directed  Control(Out: INHIBITION of BiochemicalReaction)\n",
       "1   9021  3717  undirected                                          Binding\n",
       "2   9021  3569    directed  Control(Out: INHIBITION of BiochemicalReaction)\n",
       "3   9021  3569  undirected                                          Binding\n",
       "4   9021  3570    directed  Control(Out: INHIBITION of BiochemicalReaction)\n",
       "..   ...   ...         ...                                              ...\n",
       "72  5781  3569  undirected                                          Binding\n",
       "73  5781  3570  undirected                                          Binding\n",
       "74  5781   867  undirected                                          Binding\n",
       "75  5781  3716  undirected                                          Binding\n",
       "76  5781  7297  undirected                                          Binding\n",
       "\n",
       "[77 rows x 4 columns]"
      ]
     },
     "execution_count": 4,
     "metadata": {},
     "output_type": "execute_result"
    }
   ],
   "source": [
    "df.loc[:, ['src', 'dest', 'direction', 'type']]"
   ]
  },
  {
   "cell_type": "markdown",
   "id": "c4a92e3d",
   "metadata": {},
   "source": [
    "change to :\n",
    "\n",
    "src | dest | src_index | dest_index | src_fpkm | dest_fpkm | direction | type | pathway_name\n",
    "\n",
    "\n"
   ]
  },
  {
   "cell_type": "code",
   "execution_count": 3,
   "id": "c010b8ad",
   "metadata": {},
   "outputs": [],
   "source": [
    "import torch_geometric as pyg"
   ]
  },
  {
   "cell_type": "code",
   "execution_count": 5,
   "id": "b8202ed1",
   "metadata": {},
   "outputs": [
    {
     "data": {
      "text/plain": [
       "(tensor([[-1.],\n",
       "         [ 0.],\n",
       "         [ 1.]]),\n",
       " tensor([[3, 1, 1, 2],\n",
       "         [1, 6, 2, 1]]))"
      ]
     },
     "execution_count": 5,
     "metadata": {},
     "output_type": "execute_result"
    }
   ],
   "source": [
    "import torch\n",
    "from torch_geometric.data import Data\n",
    "\n",
    "edge_index = torch.tensor([[3, 1, 1, 2],\n",
    "                           [1, 6, 2, 1]], dtype=torch.long)\n",
    "x = torch.tensor([[-1], [0], [1]], dtype=torch.float)\n",
    "\n",
    "data = Data(x=x, edge_index=edge_index)\n",
    "\n",
    "data.x, data.edge_index"
   ]
  },
  {
   "cell_type": "code",
   "execution_count": 15,
   "id": "dbf517f2",
   "metadata": {},
   "outputs": [
    {
     "data": {
      "image/png": "[encoded data removed]",
      "text/plain": [
       "<Figure size 432x288 with 1 Axes>"
      ]
     },
     "metadata": {},
     "output_type": "display_data"
    }
   ],
   "source": [
    "import networkx as nx\n",
    "from torch_geometric.utils.convert import to_networkx\n",
    "import matplotlib.pyplot as plt\n",
    "\n",
    "def draw(Data):\n",
    "    G = to_networkx(Data)\n",
    "    nx.draw(G, with_labels=True)\n",
    "    plt.show()\n",
    "\n",
    "draw(data)"
   ]
  },
  {
   "cell_type": "code",
   "execution_count": 16,
   "id": "3e960438",
   "metadata": {},
   "outputs": [],
   "source": [
    "from torch_geometric.utils import subgraph"
   ]
  },
  {
   "cell_type": "code",
   "execution_count": 40,
   "id": "3e201edd",
   "metadata": {},
   "outputs": [
    {
     "data": {
      "text/plain": [
       "ModuleList(\n",
       "  (0): Linear(in_features=1, out_features=1, bias=True)\n",
       "  (1): Linear(in_features=1, out_features=1, bias=True)\n",
       "  (2): Linear(in_features=1, out_features=1, bias=True)\n",
       "  (3): Linear(in_features=1, out_features=1, bias=True)\n",
       "  (4): Linear(in_features=1, out_features=1, bias=True)\n",
       ")"
      ]
     },
     "execution_count": 40,
     "metadata": {},
     "output_type": "execute_result"
    }
   ],
   "source": [
    "pw = torch.nn.ModuleList()\n",
    "a = torch.nn.Linear(1,1)\n",
    "for i in range(5):\n",
    "    pw.append(a)\n",
    "pw"
   ]
  },
  {
   "cell_type": "code",
   "execution_count": 16,
   "id": "6039a76b",
   "metadata": {},
   "outputs": [
    {
     "data": {
      "text/plain": [
       "<bound method Module.parameters of Linear(in_features=1, out_features=1, bias=True)>"
      ]
     },
     "execution_count": 16,
     "metadata": {},
     "output_type": "execute_result"
    }
   ],
   "source": [
    "pw[1].parameters"
   ]
  },
  {
   "cell_type": "code",
   "execution_count": 41,
   "id": "d0efd609",
   "metadata": {},
   "outputs": [
    {
     "data": {
      "text/plain": [
       "[Parameter containing:\n",
       " tensor([[-0.2370]], requires_grad=True),\n",
       " Parameter containing:\n",
       " tensor([-0.0187], requires_grad=True)]"
      ]
     },
     "execution_count": 41,
     "metadata": {},
     "output_type": "execute_result"
    }
   ],
   "source": [
    "list(pw.parameters())"
   ]
  },
  {
   "cell_type": "code",
   "execution_count": 42,
   "id": "c5db791d",
   "metadata": {},
   "outputs": [
    {
     "data": {
      "text/plain": [
       "True"
      ]
     },
     "execution_count": 42,
     "metadata": {},
     "output_type": "execute_result"
    }
   ],
   "source": [
    "id(pw[0]) == id(pw[1])"
   ]
  },
  {
   "cell_type": "code",
   "execution_count": 36,
   "id": "18478f25",
   "metadata": {
    "scrolled": true
   },
   "outputs": [
    {
     "data": {
      "text/plain": [
       "Model()"
      ]
     },
     "execution_count": 36,
     "metadata": {},
     "output_type": "execute_result"
    }
   ],
   "source": [
    "class Model(torch.nn.Module):\n",
    "    def __init__(self):\n",
    "        super(Model,self).__init__()\n",
    "    def forward(self,x):\n",
    "        for i in range(855):\n",
    "            x = torch.nn.Linear(1,1)(x)\n",
    "        return x\n",
    "    \n",
    "m = Model()\n",
    "# get_parameter_number(m)\n",
    "\n",
    "m"
   ]
  },
  {
   "cell_type": "code",
   "execution_count": 26,
   "id": "a8222054",
   "metadata": {},
   "outputs": [
    {
     "data": {
      "text/plain": [
       "{'Total': 1710, 'Trainable': 1710}"
      ]
     },
     "execution_count": 26,
     "metadata": {},
     "output_type": "execute_result"
    }
   ],
   "source": [
    "def get_parameter_number(model):\n",
    "    total_num = sum(p.numel() for p in model.parameters())\n",
    "    trainable_num = sum(p.numel() for p in model.parameters() if p.requires_grad)\n",
    "    return {'Total': total_num, 'Trainable': trainable_num}\n",
    "\n",
    "get_parameter_number(pw)"
   ]
  }
 ],
 "metadata": {
  "kernelspec": {
   "display_name": "Python 3 (ipykernel)",
   "language": "python",
   "name": "python3"
  },
  "language_info": {
   "codemirror_mode": {
    "name": "ipython",
    "version": 3
   },
   "file_extension": ".py",
   "mimetype": "text/x-python",
   "name": "python",
   "nbconvert_exporter": "python",
   "pygments_lexer": "ipython3",
   "version": "3.8.12"
  },
  "varInspector": {
   "cols": {
    "lenName": 16,
    "lenType": 16,
    "lenVar": 40
   },
   "kernels_config": {
    "python": {
     "delete_cmd_postfix": "",
     "delete_cmd_prefix": "del ",
     "library": "var_list.py",
     "varRefreshCmd": "print(var_dic_list())"
    },
    "r": {
     "delete_cmd_postfix": ") ",
     "delete_cmd_prefix": "rm(",
     "library": "var_list.r",
     "varRefreshCmd": "cat(var_dic_list()) "
    }
   },
   "types_to_exclude": [
    "module",
    "function",
    "builtin_function_or_method",
    "instance",
    "_Feature"
   ],
   "window_display": false
  }
 },
 "nbformat": 4,
 "nbformat_minor": 5
}
